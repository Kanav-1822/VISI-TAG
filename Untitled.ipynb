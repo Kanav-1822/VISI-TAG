{
 "cells": [
  {
   "cell_type": "code",
   "execution_count": 1,
   "id": "d2d66459-15c6-4a33-9a8e-55fdf25d3f72",
   "metadata": {},
   "outputs": [],
   "source": [
    "import pandas as pd\n",
    "import random\n",
    "\n",
    "# Load the original CSV file\n",
    "df = pd.read_csv('train.csv')\n",
    "\n",
    "# Get all distinct category values\n",
    "categories = df['Category'].unique()\n",
    "\n",
    "# Create a new dataframe to store the sampled data\n",
    "sampled_df = pd.DataFrame()\n",
    "\n",
    "# Loop through each category and sample 1500 random rows\n",
    "for category in categories:\n",
    "    category_df = df[df['Category'] == category]\n",
    "    sampled_rows = category_df.sample(n=1500, replace=False)\n",
    "    sampled_df = pd.concat([sampled_df, sampled_rows])\n",
    "\n",
    "# Shuffle the sampled dataframe to ensure randomness\n",
    "sampled_df = sampled_df.sample(frac=1).reset_index(drop=True)\n",
    "\n",
    "# Save the sampled dataframe to a new CSV file\n",
    "sampled_df.to_csv('sampled_data.csv', index=False)"
   ]
  },
  {
   "cell_type": "code",
   "execution_count": 2,
   "id": "aa80a966-d89d-4816-973b-c9db2bdcd8ad",
   "metadata": {},
   "outputs": [
    {
     "data": {
      "text/plain": [
       "array(['Men Tshirts', 'Sarees', 'Kurtis', 'Women Tshirts',\n",
       "       'Women Tops & Tunics'], dtype=object)"
      ]
     },
     "execution_count": 2,
     "metadata": {},
     "output_type": "execute_result"
    }
   ],
   "source": [
    "categories"
   ]
  },
  {
   "cell_type": "code",
   "execution_count": null,
   "id": "2f5d3155-2853-4de0-abba-7409af3c37b8",
   "metadata": {},
   "outputs": [],
   "source": []
  }
 ],
 "metadata": {
  "kernelspec": {
   "display_name": "Python 3 (ipykernel)",
   "language": "python",
   "name": "python3"
  },
  "language_info": {
   "codemirror_mode": {
    "name": "ipython",
    "version": 3
   },
   "file_extension": ".py",
   "mimetype": "text/x-python",
   "name": "python",
   "nbconvert_exporter": "python",
   "pygments_lexer": "ipython3",
   "version": "3.12.3"
  }
 },
 "nbformat": 4,
 "nbformat_minor": 5
}
